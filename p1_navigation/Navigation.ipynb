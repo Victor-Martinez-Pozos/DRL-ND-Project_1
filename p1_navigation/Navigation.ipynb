{
 "cells": [
  {
   "cell_type": "markdown",
   "metadata": {},
   "source": [
    "# Navigation\n",
    "\n",
    "---\n",
    "\n",
    "You are welcome to use this coding environment to train your agent for the project.  Follow the instructions below to get started!\n",
    "\n",
    "### 1.0 Start the Environment and load dependencies\n",
    "\n",
    "Run the next code cell to install a few packages.  This line will take a few minutes to run!"
   ]
  },
  {
   "cell_type": "code",
   "execution_count": 1,
   "metadata": {
    "scrolled": true
   },
   "outputs": [],
   "source": [
    "!pip -q install ../python"
   ]
  },
  {
   "cell_type": "markdown",
   "metadata": {},
   "source": [
    "The environment is already saved in the Workspace and can be accessed at the file path provided below.  Please run the next code cell without making any changes."
   ]
  },
  {
   "cell_type": "code",
   "execution_count": 2,
   "metadata": {},
   "outputs": [
    {
     "name": "stderr",
     "output_type": "stream",
     "text": [
      "INFO:unityagents:\n",
      "'Academy' started successfully!\n",
      "Unity Academy name: Academy\n",
      "        Number of Brains: 1\n",
      "        Number of External Brains : 1\n",
      "        Lesson number : 0\n",
      "        Reset Parameters :\n",
      "\t\t\n",
      "Unity brain name: BananaBrain\n",
      "        Number of Visual Observations (per agent): 0\n",
      "        Vector Observation space type: continuous\n",
      "        Vector Observation space size (per agent): 37\n",
      "        Number of stacked Vector Observation: 1\n",
      "        Vector Action space type: discrete\n",
      "        Vector Action space size (per agent): 4\n",
      "        Vector Action descriptions: , , , \n"
     ]
    }
   ],
   "source": [
    "from unityagents import UnityEnvironment\n",
    "import numpy as np\n",
    "\n",
    "# please do not modify the line below\n",
    "env = UnityEnvironment(file_name=\"./Banana_Linux/Banana.x86_64\")"
   ]
  },
  {
   "cell_type": "code",
   "execution_count": 3,
   "metadata": {},
   "outputs": [
    {
     "name": "stderr",
     "output_type": "stream",
     "text": [
      "INFO:matplotlib.font_manager:Generating new fontManager, this may take some time...\n",
      "INFO:matplotlib.font_manager:Failed to extract font properties from /usr/share/fonts/truetype/noto/NotoColorEmoji.ttf: In FT2Font: Can not load face.  Unknown file format.\n"
     ]
    }
   ],
   "source": [
    "import random\n",
    "import torch\n",
    "from collections import deque\n",
    "import matplotlib.pyplot as plt\n",
    "%matplotlib inline"
   ]
  },
  {
   "cell_type": "markdown",
   "metadata": {},
   "source": [
    "Environments contain **_brains_** which are responsible for deciding the actions of their associated agents. Here we check for the first brain available, and set it as the default brain we will be controlling from Python."
   ]
  },
  {
   "cell_type": "code",
   "execution_count": 4,
   "metadata": {},
   "outputs": [],
   "source": [
    "# get the default brain\n",
    "brain_name = env.brain_names[0]\n",
    "brain = env.brains[brain_name]"
   ]
  },
  {
   "cell_type": "markdown",
   "metadata": {},
   "source": [
    "### 2.0 Examine the State and Action Spaces\n",
    "\n",
    "Run the code cell below to print some information about the environment."
   ]
  },
  {
   "cell_type": "code",
   "execution_count": 5,
   "metadata": {},
   "outputs": [
    {
     "name": "stdout",
     "output_type": "stream",
     "text": [
      "Number of agents: 1\n",
      "Number of actions: 4\n",
      "States look like: [1.         0.         0.         0.         0.84408134 0.\n",
      " 0.         1.         0.         0.0748472  0.         1.\n",
      " 0.         0.         0.25755    1.         0.         0.\n",
      " 0.         0.74177343 0.         1.         0.         0.\n",
      " 0.25854847 0.         0.         1.         0.         0.09355672\n",
      " 0.         1.         0.         0.         0.31969345 0.\n",
      " 0.        ]\n",
      "States have length: 37\n"
     ]
    }
   ],
   "source": [
    "# reset the environment\n",
    "env_info = env.reset(train_mode=True)[brain_name]\n",
    "\n",
    "# number of agents in the environment\n",
    "print('Number of agents:', len(env_info.agents))\n",
    "\n",
    "# number of actions\n",
    "action_size = brain.vector_action_space_size\n",
    "print('Number of actions:', action_size)\n",
    "\n",
    "# examine the state space \n",
    "state = env_info.vector_observations[0]\n",
    "print('States look like:', state)\n",
    "state_size = len(state)\n",
    "print('States have length:', state_size)"
   ]
  },
  {
   "cell_type": "markdown",
   "metadata": {},
   "source": [
    "### 2.1 Instansiate agen and test it as baseline\n",
    "\n",
    "In the next code cell, you will learn how to use the Python API to control the agent and receive feedback from the environment.\n",
    "\n",
    "Note that **in this coding environment, you will not be able to watch the agent while it is training**, and you should set `train_mode=True` to restart the environment."
   ]
  },
  {
   "cell_type": "code",
   "execution_count": 6,
   "metadata": {},
   "outputs": [
    {
     "name": "stdout",
     "output_type": "stream",
     "text": [
      "Score: 0.0\n"
     ]
    }
   ],
   "source": [
    "from dqn_agent import Agent\n",
    "\n",
    "agent = Agent(state_size=37, action_size=4, seed=0)\n",
    "\n",
    "env_info = env.reset(train_mode=True)[brain_name] # reset the environment\n",
    "state = env_info.vector_observations[0]            # get the current state\n",
    "\n",
    "score = 0                                          # initialize the score\n",
    "while True:\n",
    "    action = agent.act(state)       # select an action\n",
    "\n",
    "    env_info = env.step(action)[brain_name]        # send the action to the environment\n",
    "    next_state = env_info.vector_observations[0]   # get the next state\n",
    "    reward = env_info.rewards[0]                   # get the reward\n",
    "    done = env_info.local_done[0]                  # see if episode has finished\n",
    "    score += reward                                # update the score\n",
    "    state = next_state                             # roll over the state to next time step\n",
    "    if done:                                       # exit loop if episode finished\n",
    "        break\n",
    "    \n",
    "print(\"Score: {}\".format(score))\n"
   ]
  },
  {
   "cell_type": "markdown",
   "metadata": {},
   "source": [
    "### 3.0 Training of the Agent with DQN"
   ]
  },
  {
   "cell_type": "code",
   "execution_count": 7,
   "metadata": {},
   "outputs": [
    {
     "name": "stdout",
     "output_type": "stream",
     "text": [
      "Episode 100\tAverage Score: 0.34\n",
      "Episode 200\tAverage Score: 3.89\n",
      "Episode 300\tAverage Score: 6.73\n",
      "Episode 400\tAverage Score: 11.10\n",
      "Episode 500\tAverage Score: 13.60\n",
      "Episode 600\tAverage Score: 13.85\n",
      "Episode 700\tAverage Score: 14.40\n",
      "Episode 800\tAverage Score: 15.44\n",
      "Episode 900\tAverage Score: 16.15\n",
      "Episode 1000\tAverage Score: 15.58\n",
      "Episode 1100\tAverage Score: 16.18\n",
      "Episode 1200\tAverage Score: 16.40\n",
      "Episode 1300\tAverage Score: 16.29\n",
      "Episode 1400\tAverage Score: 15.39\n",
      "Episode 1500\tAverage Score: 15.91\n",
      "Episode 1600\tAverage Score: 15.98\n",
      "Episode 1700\tAverage Score: 15.71\n",
      "Episode 1800\tAverage Score: 15.44\n",
      "Episode 1900\tAverage Score: 15.90\n",
      "Episode 2000\tAverage Score: 16.09\n"
     ]
    }
   ],
   "source": [
    "def dqn(n_episodes=2000, max_t=1000, eps_start=1.0, eps_end=0.01, eps_decay=0.995):\n",
    "    \"\"\"Deep Q-Learning.\n",
    "    \n",
    "    Params\n",
    "    ======\n",
    "        n_episodes (int): maximum number of training episodes\n",
    "        max_t (int): maximum number of timesteps per episode\n",
    "        eps_start (float): starting value of epsilon, for epsilon-greedy action selection\n",
    "        eps_end (float): minimum value of epsilon\n",
    "        eps_decay (float): multiplicative factor (per episode) for decreasing epsilon\n",
    "    \"\"\"\n",
    "    scores = []                        # list containing scores from each episode\n",
    "    scores_window = deque(maxlen=100)  # last 100 scores\n",
    "    eps = eps_start                    # initialize epsilon\n",
    "    for i_episode in range(1, n_episodes+1):\n",
    "        env_info = env.reset(train_mode=True)[brain_name] # reset the environment\n",
    "        state = env_info.vector_observations[0]            # get the current state\n",
    "        score = 0\n",
    "        for t in range(max_t):\n",
    "            action = agent.act(state, eps)       # select an action\n",
    "            env_info = env.step(action)[brain_name]        # send the action to the environment\n",
    "            next_state = env_info.vector_observations[0]   # get the next state\n",
    "            reward = env_info.rewards[0]                   # get the reward\n",
    "            done = env_info.local_done[0] \n",
    "            \n",
    "            agent.step(state, action, reward, next_state, done)\n",
    "            state = next_state\n",
    "            score += reward\n",
    "            if done:\n",
    "                break \n",
    "        scores_window.append(score)       # save most recent score\n",
    "        scores.append(score)              # save most recent score\n",
    "        eps = max(eps_end, eps_decay*eps) # decrease epsilon\n",
    "        print('\\rEpisode {}\\tAverage Score: {:.2f}'.format(i_episode, np.mean(scores_window)), end=\"\")\n",
    "        if i_episode % 100 == 0:\n",
    "            print('\\rEpisode {}\\tAverage Score: {:.2f}'.format(i_episode, np.mean(scores_window)))\n",
    "        if np.mean(scores_window)>13.0:\n",
    "            print('\\nEnvironment solved in {:d} episodes!\\tAverage Score: {:.2f}'.format(i_episode-100, np.mean(scores_window)))\n",
    "            torch.save(agent.qnetwork_local.state_dict(), 'checkpoint.pth')\n",
    "            break\n",
    "    return scores\n",
    "\n",
    "scores = dqn()"
   ]
  },
  {
   "cell_type": "markdown",
   "metadata": {},
   "source": [
    "### 3.1 Training plots"
   ]
  },
  {
   "cell_type": "code",
   "execution_count": 8,
   "metadata": {},
   "outputs": [
    {
     "data": {
      "image/png": "[encoded data removed]",
      "text/plain": [
       "<matplotlib.figure.Figure at 0x7fa48f64a080>"
      ]
     },
     "metadata": {
      "needs_background": "light"
     },
     "output_type": "display_data"
    }
   ],
   "source": [
    "# plot the scores\n",
    "fig = plt.figure()\n",
    "ax = fig.add_subplot(111)\n",
    "plt.plot(np.arange(len(scores)), scores)\n",
    "plt.ylabel('Score')\n",
    "plt.xlabel('Episode #')\n",
    "plt.show()"
   ]
  },
  {
   "cell_type": "markdown",
   "metadata": {},
   "source": [
    "### 4. Agent evaluation"
   ]
  },
  {
   "cell_type": "code",
   "execution_count": 10,
   "metadata": {},
   "outputs": [],
   "source": [
    "import time"
   ]
  },
  {
   "cell_type": "code",
   "execution_count": 12,
   "metadata": {
    "scrolled": true
   },
   "outputs": [
    {
     "name": "stdout",
     "output_type": "stream",
     "text": [
      "Episode 1/100, score 22.0\n",
      "Episode 2/100, score 1.0\n",
      "Episode 3/100, score 3.0\n",
      "Episode 4/100, score 4.0\n",
      "Episode 5/100, score 22.0\n",
      "Episode 6/100, score 0.0\n",
      "Episode 7/100, score 20.0\n",
      "Episode 8/100, score 27.0\n",
      "Episode 9/100, score 21.0\n",
      "Episode 10/100, score 1.0\n",
      "Episode 11/100, score 21.0\n",
      "Episode 12/100, score 0.0\n",
      "Episode 13/100, score 11.0\n",
      "Episode 14/100, score 18.0\n",
      "Episode 15/100, score 8.0\n",
      "Episode 16/100, score 22.0\n",
      "Episode 17/100, score 13.0\n",
      "Episode 18/100, score 16.0\n",
      "Episode 19/100, score 13.0\n",
      "Episode 20/100, score 16.0\n",
      "Episode 21/100, score 19.0\n",
      "Episode 22/100, score 8.0\n",
      "Episode 23/100, score 13.0\n",
      "Episode 24/100, score 13.0\n",
      "Episode 25/100, score 22.0\n",
      "Episode 26/100, score 15.0\n",
      "Episode 27/100, score 15.0\n",
      "Episode 28/100, score 20.0\n",
      "Episode 29/100, score 22.0\n",
      "Episode 30/100, score 19.0\n",
      "Episode 31/100, score 17.0\n",
      "Episode 32/100, score 14.0\n",
      "Episode 33/100, score 16.0\n",
      "Episode 34/100, score 11.0\n",
      "Episode 35/100, score 10.0\n",
      "Episode 36/100, score 20.0\n",
      "Episode 37/100, score 17.0\n",
      "Episode 38/100, score 19.0\n",
      "Episode 39/100, score 17.0\n",
      "Episode 40/100, score 19.0\n",
      "Episode 41/100, score 9.0\n",
      "Episode 42/100, score 18.0\n",
      "Episode 43/100, score 19.0\n",
      "Episode 44/100, score 16.0\n",
      "Episode 45/100, score 14.0\n",
      "Episode 46/100, score 10.0\n",
      "Episode 47/100, score 16.0\n",
      "Episode 48/100, score 17.0\n",
      "Episode 49/100, score 20.0\n",
      "Episode 50/100, score 19.0\n",
      "Episode 51/100, score 15.0\n",
      "Episode 52/100, score 19.0\n",
      "Episode 53/100, score 19.0\n",
      "Episode 54/100, score 19.0\n",
      "Episode 55/100, score 14.0\n",
      "Episode 56/100, score 17.0\n",
      "Episode 57/100, score 16.0\n",
      "Episode 58/100, score 14.0\n",
      "Episode 59/100, score 21.0\n",
      "Episode 60/100, score 19.0\n",
      "Episode 61/100, score 11.0\n",
      "Episode 62/100, score 19.0\n",
      "Episode 63/100, score 14.0\n",
      "Episode 64/100, score 16.0\n",
      "Episode 65/100, score 14.0\n",
      "Episode 66/100, score 6.0\n",
      "Episode 67/100, score 6.0\n",
      "Episode 68/100, score 18.0\n",
      "Episode 69/100, score 18.0\n",
      "Episode 70/100, score 15.0\n",
      "Episode 71/100, score 16.0\n",
      "Episode 72/100, score 13.0\n",
      "Episode 73/100, score 16.0\n",
      "Episode 74/100, score 9.0\n",
      "Episode 75/100, score 12.0\n",
      "Episode 76/100, score 11.0\n",
      "Episode 77/100, score 1.0\n",
      "Episode 78/100, score 16.0\n",
      "Episode 79/100, score 13.0\n",
      "Episode 80/100, score 16.0\n",
      "Episode 81/100, score 17.0\n",
      "Episode 82/100, score 17.0\n",
      "Episode 83/100, score 14.0\n",
      "Episode 84/100, score 20.0\n",
      "Episode 85/100, score 0.0\n",
      "Episode 86/100, score 21.0\n",
      "Episode 87/100, score 1.0\n",
      "Episode 88/100, score 13.0\n",
      "Episode 89/100, score 3.0\n",
      "Episode 90/100, score 21.0\n",
      "Episode 91/100, score 21.0\n",
      "Episode 92/100, score 22.0\n",
      "Episode 93/100, score 25.0\n",
      "Episode 94/100, score 16.0\n",
      "Episode 95/100, score 15.0\n",
      "Episode 96/100, score 18.0\n",
      "Episode 97/100, score 7.0\n",
      "Episode 98/100, score 17.0\n",
      "Episode 99/100, score 9.0\n",
      "Episode 100/100, score 16.0\n",
      "\n",
      "\n",
      "Average score 16.0\n",
      "Success!\n"
     ]
    }
   ],
   "source": [
    "# load the weights from file\n",
    "agent.qnetwork_local.load_state_dict(torch.load('checkpoint.pth'))\n",
    "\n",
    "# test performance of the agent over 100 episodes\n",
    "for i in range(100):\n",
    "    scores = []      \n",
    "    env_info = env.reset(train_mode=True)[brain_name] # reset the environment\n",
    "    state = env_info.vector_observations[0]            # get the current state\n",
    "    score = 0\n",
    "    for t in range(1000):\n",
    "        if i>97:\n",
    "            time.sleep(.12)\n",
    "        action = agent.act(state)       # select an action\n",
    "        env_info = env.step(action)[brain_name]        # send the action to the environment\n",
    "        next_state = env_info.vector_observations[0]   # get the next state\n",
    "        reward = env_info.rewards[0]                   # get the reward\n",
    "        done = env_info.local_done[0] \n",
    "            \n",
    "        state = next_state\n",
    "        score += reward\n",
    "        if done:\n",
    "            break \n",
    "    \n",
    "    print(f\"Episode {i+1}/100, score {score}\")\n",
    "    scores.append(score)\n",
    "\n",
    "print(\"\\n\\nAverage score\", np.mean(scores))\n",
    "\n",
    "if np.mean(scores)>13:\n",
    "    print(\"Success!\")\n",
    "    #env.close()"
   ]
  }
 ],
 "metadata": {
  "kernelspec": {
   "display_name": "Python 3",
   "language": "python",
   "name": "python3"
  },
  "language_info": {
   "codemirror_mode": {
    "name": "ipython",
    "version": 3
   },
   "file_extension": ".py",
   "mimetype": "text/x-python",
   "name": "python",
   "nbconvert_exporter": "python",
   "pygments_lexer": "ipython3",
   "version": "3.6.12"
  }
 },
 "nbformat": 4,
 "nbformat_minor": 2
}
